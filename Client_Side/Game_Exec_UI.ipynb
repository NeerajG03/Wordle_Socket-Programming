{
 "cells": [
  {
   "cell_type": "markdown",
   "id": "48c4d348",
   "metadata": {},
   "source": [
    "## Welcome to wordle\n",
    "### Tick..Tock..."
   ]
  },
  {
   "cell_type": "markdown",
   "id": "48c4d348",
   "metadata": {},
   "source": [
    "## Welcome to wordle\n",
    "### Tick..Tock..."
   ]
  },
  {
   "cell_type": "code",
   "execution_count": null,
   "id": "5b6547f0",
   "metadata": {},
   "outputs": [],
   "source": [
    "from game import *"
   ]
  },
  {
   "cell_type": "markdown",
   "id": "403faee2",
   "metadata": {},
   "source": [
    "### Nooks and gists of the game:\n",
    "1. All you have to do is figure out the mystery word\n",
    "2. It will always be of 5 letter size\n",
    "3. If letter is present in the word to be guessed it will be in yellow color and will be capitalized\n",
    "4. If letter is present and in the proper place it will be in green color and will be capitalized for easier recognition\n",
    "5. If letter isn't present then it will be in black color and in lower case\n",
    "\n",
    "#### Now that you have caught up, Start Guessing!"
   ]
  },
  {
   "cell_type": "code",
   "execution_count": null,
   "id": "d82b6647",
   "metadata": {},
   "outputs": [],
   "source": [
    "game()"
   ]
  }
 ],
 "metadata": {
  "interpreter": {
   "hash": "0f7eec6685179bf60153c547c20c00d166e30add75c9b4fc0e55016de1a7a57a"
  },
  "kernelspec": {
   "display_name": "Python 3 (ipykernel)",
   "language": "python",
   "name": "python3"
  },
  "language_info": {
   "codemirror_mode": {
    "name": "ipython",
    "version": 3
   },
   "file_extension": ".py",
   "mimetype": "text/x-python",
   "name": "python",
   "nbconvert_exporter": "python",
   "pygments_lexer": "ipython3",
   "version": "3.10.2"
  }
 },
 "nbformat": 4,
 "nbformat_minor": 5
}
